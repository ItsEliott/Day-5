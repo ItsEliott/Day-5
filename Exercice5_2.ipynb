{
 "cells": [
  {
   "cell_type": "markdown",
   "metadata": {
    "id": "UYxrKKxlJTuQ"
   },
   "source": [
    "# House Market"
   ]
  },
  {
   "cell_type": "markdown",
   "metadata": {
    "id": "fKVD83V8JZG_"
   },
   "source": [
    "Let's go a little further into python."
   ]
  },
  {
   "cell_type": "markdown",
   "metadata": {
    "id": "XXXPg4_hJcbL"
   },
   "source": [
    "1. Download the four files “superficie.csv” / “nombre_de_sdb.csv” / “nombre_de_chambres.csv” / \"house_price.csv\"\n",
    "\n",
    "2. Read the files and create the 4 corresponding Dataframes\n"
   ]
  },
  {
   "cell_type": "code",
   "execution_count": 133,
   "metadata": {
    "id": "GSJxK0pAbEAT"
   },
   "outputs": [
    {
     "data": {
      "text/html": [
       "<div>\n",
       "<style scoped>\n",
       "    .dataframe tbody tr th:only-of-type {\n",
       "        vertical-align: middle;\n",
       "    }\n",
       "\n",
       "    .dataframe tbody tr th {\n",
       "        vertical-align: top;\n",
       "    }\n",
       "\n",
       "    .dataframe thead th {\n",
       "        text-align: right;\n",
       "    }\n",
       "</style>\n",
       "<table border=\"1\" class=\"dataframe\">\n",
       "  <thead>\n",
       "    <tr style=\"text-align: right;\">\n",
       "      <th></th>\n",
       "      <th>Unnamed: 0</th>\n",
       "      <th>id</th>\n",
       "      <th>house_price</th>\n",
       "    </tr>\n",
       "  </thead>\n",
       "  <tbody>\n",
       "    <tr>\n",
       "      <th>0</th>\n",
       "      <td>0</td>\n",
       "      <td>14</td>\n",
       "      <td>1918154.0</td>\n",
       "    </tr>\n",
       "    <tr>\n",
       "      <th>1</th>\n",
       "      <td>1</td>\n",
       "      <td>30</td>\n",
       "      <td>739142.0</td>\n",
       "    </tr>\n",
       "    <tr>\n",
       "      <th>2</th>\n",
       "      <td>2</td>\n",
       "      <td>70</td>\n",
       "      <td>1621938.0</td>\n",
       "    </tr>\n",
       "    <tr>\n",
       "      <th>3</th>\n",
       "      <td>3</td>\n",
       "      <td>77</td>\n",
       "      <td>1319862.0</td>\n",
       "    </tr>\n",
       "    <tr>\n",
       "      <th>4</th>\n",
       "      <td>4</td>\n",
       "      <td>50</td>\n",
       "      <td>146250.0</td>\n",
       "    </tr>\n",
       "  </tbody>\n",
       "</table>\n",
       "</div>"
      ],
      "text/plain": [
       "   Unnamed: 0  id  house_price\n",
       "0           0  14    1918154.0\n",
       "1           1  30     739142.0\n",
       "2           2  70    1621938.0\n",
       "3           3  77    1319862.0\n",
       "4           4  50     146250.0"
      ]
     },
     "execution_count": 133,
     "metadata": {},
     "output_type": "execute_result"
    }
   ],
   "source": [
    "import pandas as pd\n",
    "\n",
    "data1 = pd.read_csv('house_price.csv')\n",
    "\n",
    "data1.head()"
   ]
  },
  {
   "cell_type": "code",
   "execution_count": 134,
   "metadata": {
    "id": "KiNPEcoKI65z"
   },
   "outputs": [
    {
     "data": {
      "text/html": [
       "<div>\n",
       "<style scoped>\n",
       "    .dataframe tbody tr th:only-of-type {\n",
       "        vertical-align: middle;\n",
       "    }\n",
       "\n",
       "    .dataframe tbody tr th {\n",
       "        vertical-align: top;\n",
       "    }\n",
       "\n",
       "    .dataframe thead th {\n",
       "        text-align: right;\n",
       "    }\n",
       "</style>\n",
       "<table border=\"1\" class=\"dataframe\">\n",
       "  <thead>\n",
       "    <tr style=\"text-align: right;\">\n",
       "      <th></th>\n",
       "      <th>0</th>\n",
       "      <th>1</th>\n",
       "    </tr>\n",
       "  </thead>\n",
       "  <tbody>\n",
       "    <tr>\n",
       "      <th>0</th>\n",
       "      <td>1</td>\n",
       "      <td>4</td>\n",
       "    </tr>\n",
       "    <tr>\n",
       "      <th>1</th>\n",
       "      <td>2</td>\n",
       "      <td>1</td>\n",
       "    </tr>\n",
       "    <tr>\n",
       "      <th>2</th>\n",
       "      <td>3</td>\n",
       "      <td>4</td>\n",
       "    </tr>\n",
       "    <tr>\n",
       "      <th>3</th>\n",
       "      <td>4</td>\n",
       "      <td>2</td>\n",
       "    </tr>\n",
       "    <tr>\n",
       "      <th>4</th>\n",
       "      <td>5</td>\n",
       "      <td>4</td>\n",
       "    </tr>\n",
       "  </tbody>\n",
       "</table>\n",
       "</div>"
      ],
      "text/plain": [
       "   0  1\n",
       "0  1  4\n",
       "1  2  1\n",
       "2  3  4\n",
       "3  4  2\n",
       "4  5  4"
      ]
     },
     "execution_count": 134,
     "metadata": {},
     "output_type": "execute_result"
    }
   ],
   "source": [
    "data2 = pd.read_csv(\"nombre_de_chambres.csv\")\n",
    "\n",
    "data2.head()"
   ]
  },
  {
   "cell_type": "code",
   "execution_count": 135,
   "metadata": {},
   "outputs": [
    {
     "data": {
      "text/html": [
       "<div>\n",
       "<style scoped>\n",
       "    .dataframe tbody tr th:only-of-type {\n",
       "        vertical-align: middle;\n",
       "    }\n",
       "\n",
       "    .dataframe tbody tr th {\n",
       "        vertical-align: top;\n",
       "    }\n",
       "\n",
       "    .dataframe thead th {\n",
       "        text-align: right;\n",
       "    }\n",
       "</style>\n",
       "<table border=\"1\" class=\"dataframe\">\n",
       "  <thead>\n",
       "    <tr style=\"text-align: right;\">\n",
       "      <th></th>\n",
       "      <th>0</th>\n",
       "      <th>2</th>\n",
       "    </tr>\n",
       "  </thead>\n",
       "  <tbody>\n",
       "    <tr>\n",
       "      <th>0</th>\n",
       "      <td>1</td>\n",
       "      <td>1</td>\n",
       "    </tr>\n",
       "    <tr>\n",
       "      <th>1</th>\n",
       "      <td>2</td>\n",
       "      <td>1</td>\n",
       "    </tr>\n",
       "    <tr>\n",
       "      <th>2</th>\n",
       "      <td>3</td>\n",
       "      <td>3</td>\n",
       "    </tr>\n",
       "    <tr>\n",
       "      <th>3</th>\n",
       "      <td>4</td>\n",
       "      <td>1</td>\n",
       "    </tr>\n",
       "    <tr>\n",
       "      <th>4</th>\n",
       "      <td>5</td>\n",
       "      <td>3</td>\n",
       "    </tr>\n",
       "  </tbody>\n",
       "</table>\n",
       "</div>"
      ],
      "text/plain": [
       "   0  2\n",
       "0  1  1\n",
       "1  2  1\n",
       "2  3  3\n",
       "3  4  1\n",
       "4  5  3"
      ]
     },
     "execution_count": 135,
     "metadata": {},
     "output_type": "execute_result"
    }
   ],
   "source": [
    "data3 = pd.read_csv(\"nombre_de_sdb.csv\")\n",
    "\n",
    "data3.head()"
   ]
  },
  {
   "cell_type": "code",
   "execution_count": 136,
   "metadata": {
    "colab": {
     "base_uri": "https://localhost:8080/",
     "height": 894
    },
    "executionInfo": {
     "elapsed": 574,
     "status": "ok",
     "timestamp": 1699028712715,
     "user": {
      "displayName": "Aurélie Mutschler",
      "userId": "09486760454547044843"
     },
     "user_tz": -60
    },
    "id": "HfnlUU5Y_sch",
    "outputId": "ddf8cdaa-00d0-4eeb-9529-07fbaf02154b"
   },
   "outputs": [
    {
     "data": {
      "text/html": [
       "<div>\n",
       "<style scoped>\n",
       "    .dataframe tbody tr th:only-of-type {\n",
       "        vertical-align: middle;\n",
       "    }\n",
       "\n",
       "    .dataframe tbody tr th {\n",
       "        vertical-align: top;\n",
       "    }\n",
       "\n",
       "    .dataframe thead th {\n",
       "        text-align: right;\n",
       "    }\n",
       "</style>\n",
       "<table border=\"1\" class=\"dataframe\">\n",
       "  <thead>\n",
       "    <tr style=\"text-align: right;\">\n",
       "      <th></th>\n",
       "      <th>0</th>\n",
       "      <th>28844</th>\n",
       "    </tr>\n",
       "  </thead>\n",
       "  <tbody>\n",
       "    <tr>\n",
       "      <th>0</th>\n",
       "      <td>1</td>\n",
       "      <td>27667</td>\n",
       "    </tr>\n",
       "    <tr>\n",
       "      <th>1</th>\n",
       "      <td>2</td>\n",
       "      <td>14742</td>\n",
       "    </tr>\n",
       "    <tr>\n",
       "      <th>2</th>\n",
       "      <td>3</td>\n",
       "      <td>28089</td>\n",
       "    </tr>\n",
       "    <tr>\n",
       "      <th>3</th>\n",
       "      <td>4</td>\n",
       "      <td>11713</td>\n",
       "    </tr>\n",
       "    <tr>\n",
       "      <th>4</th>\n",
       "      <td>5</td>\n",
       "      <td>28591</td>\n",
       "    </tr>\n",
       "  </tbody>\n",
       "</table>\n",
       "</div>"
      ],
      "text/plain": [
       "   0  28844\n",
       "0  1  27667\n",
       "1  2  14742\n",
       "2  3  28089\n",
       "3  4  11713\n",
       "4  5  28591"
      ]
     },
     "execution_count": 136,
     "metadata": {},
     "output_type": "execute_result"
    }
   ],
   "source": [
    "data4 = pd.read_csv(\"superficie.csv\")\n",
    "\n",
    "data4.head()"
   ]
  },
  {
   "cell_type": "markdown",
   "metadata": {
    "id": "9gg1hs__JiFk"
   },
   "source": [
    "3. Give a column name to the three datasets that don't have a header in the source file"
   ]
  },
  {
   "cell_type": "code",
   "execution_count": 137,
   "metadata": {},
   "outputs": [
    {
     "data": {
      "text/html": [
       "<div>\n",
       "<style scoped>\n",
       "    .dataframe tbody tr th:only-of-type {\n",
       "        vertical-align: middle;\n",
       "    }\n",
       "\n",
       "    .dataframe tbody tr th {\n",
       "        vertical-align: top;\n",
       "    }\n",
       "\n",
       "    .dataframe thead th {\n",
       "        text-align: right;\n",
       "    }\n",
       "</style>\n",
       "<table border=\"1\" class=\"dataframe\">\n",
       "  <thead>\n",
       "    <tr style=\"text-align: right;\">\n",
       "      <th></th>\n",
       "      <th>Unnamed: 0</th>\n",
       "      <th>id</th>\n",
       "      <th>house_price</th>\n",
       "    </tr>\n",
       "  </thead>\n",
       "  <tbody>\n",
       "    <tr>\n",
       "      <th>0</th>\n",
       "      <td>0</td>\n",
       "      <td>14</td>\n",
       "      <td>1918154.0</td>\n",
       "    </tr>\n",
       "    <tr>\n",
       "      <th>1</th>\n",
       "      <td>1</td>\n",
       "      <td>30</td>\n",
       "      <td>739142.0</td>\n",
       "    </tr>\n",
       "    <tr>\n",
       "      <th>2</th>\n",
       "      <td>2</td>\n",
       "      <td>70</td>\n",
       "      <td>1621938.0</td>\n",
       "    </tr>\n",
       "    <tr>\n",
       "      <th>3</th>\n",
       "      <td>3</td>\n",
       "      <td>77</td>\n",
       "      <td>1319862.0</td>\n",
       "    </tr>\n",
       "    <tr>\n",
       "      <th>4</th>\n",
       "      <td>4</td>\n",
       "      <td>50</td>\n",
       "      <td>146250.0</td>\n",
       "    </tr>\n",
       "  </tbody>\n",
       "</table>\n",
       "</div>"
      ],
      "text/plain": [
       "   Unnamed: 0  id  house_price\n",
       "0           0  14    1918154.0\n",
       "1           1  30     739142.0\n",
       "2           2  70    1621938.0\n",
       "3           3  77    1319862.0\n",
       "4           4  50     146250.0"
      ]
     },
     "execution_count": 137,
     "metadata": {},
     "output_type": "execute_result"
    }
   ],
   "source": [
    "data1.head()"
   ]
  },
  {
   "cell_type": "code",
   "execution_count": 138,
   "metadata": {
    "id": "tWjmz2QMbEAW",
    "scrolled": true
   },
   "outputs": [
    {
     "data": {
      "text/html": [
       "<div>\n",
       "<style scoped>\n",
       "    .dataframe tbody tr th:only-of-type {\n",
       "        vertical-align: middle;\n",
       "    }\n",
       "\n",
       "    .dataframe tbody tr th {\n",
       "        vertical-align: top;\n",
       "    }\n",
       "\n",
       "    .dataframe thead th {\n",
       "        text-align: right;\n",
       "    }\n",
       "</style>\n",
       "<table border=\"1\" class=\"dataframe\">\n",
       "  <thead>\n",
       "    <tr style=\"text-align: right;\">\n",
       "      <th></th>\n",
       "      <th>id</th>\n",
       "      <th>Rooms</th>\n",
       "    </tr>\n",
       "  </thead>\n",
       "  <tbody>\n",
       "    <tr>\n",
       "      <th>0</th>\n",
       "      <td>1</td>\n",
       "      <td>4</td>\n",
       "    </tr>\n",
       "    <tr>\n",
       "      <th>1</th>\n",
       "      <td>2</td>\n",
       "      <td>1</td>\n",
       "    </tr>\n",
       "    <tr>\n",
       "      <th>2</th>\n",
       "      <td>3</td>\n",
       "      <td>4</td>\n",
       "    </tr>\n",
       "    <tr>\n",
       "      <th>3</th>\n",
       "      <td>4</td>\n",
       "      <td>2</td>\n",
       "    </tr>\n",
       "    <tr>\n",
       "      <th>4</th>\n",
       "      <td>5</td>\n",
       "      <td>4</td>\n",
       "    </tr>\n",
       "  </tbody>\n",
       "</table>\n",
       "</div>"
      ],
      "text/plain": [
       "   id  Rooms\n",
       "0   1      4\n",
       "1   2      1\n",
       "2   3      4\n",
       "3   4      2\n",
       "4   5      4"
      ]
     },
     "execution_count": 138,
     "metadata": {},
     "output_type": "execute_result"
    }
   ],
   "source": [
    "data2.rename(columns={'1':'Rooms'} , inplace=True)\n",
    "\n",
    "data2.rename(columns={'0':'id'} , inplace=True)\n",
    "\n",
    "data2.head()"
   ]
  },
  {
   "cell_type": "code",
   "execution_count": 139,
   "metadata": {
    "colab": {
     "base_uri": "https://localhost:8080/",
     "height": 894
    },
    "executionInfo": {
     "elapsed": 136,
     "status": "ok",
     "timestamp": 1699028712716,
     "user": {
      "displayName": "Aurélie Mutschler",
      "userId": "09486760454547044843"
     },
     "user_tz": -60
    },
    "id": "by9wP1g_I653",
    "outputId": "d42d7238-6739-459f-aba2-a8728853c66c"
   },
   "outputs": [
    {
     "data": {
      "text/html": [
       "<div>\n",
       "<style scoped>\n",
       "    .dataframe tbody tr th:only-of-type {\n",
       "        vertical-align: middle;\n",
       "    }\n",
       "\n",
       "    .dataframe tbody tr th {\n",
       "        vertical-align: top;\n",
       "    }\n",
       "\n",
       "    .dataframe thead th {\n",
       "        text-align: right;\n",
       "    }\n",
       "</style>\n",
       "<table border=\"1\" class=\"dataframe\">\n",
       "  <thead>\n",
       "    <tr style=\"text-align: right;\">\n",
       "      <th></th>\n",
       "      <th>id</th>\n",
       "      <th>Bathrooms</th>\n",
       "    </tr>\n",
       "  </thead>\n",
       "  <tbody>\n",
       "    <tr>\n",
       "      <th>0</th>\n",
       "      <td>1</td>\n",
       "      <td>1</td>\n",
       "    </tr>\n",
       "    <tr>\n",
       "      <th>1</th>\n",
       "      <td>2</td>\n",
       "      <td>1</td>\n",
       "    </tr>\n",
       "    <tr>\n",
       "      <th>2</th>\n",
       "      <td>3</td>\n",
       "      <td>3</td>\n",
       "    </tr>\n",
       "    <tr>\n",
       "      <th>3</th>\n",
       "      <td>4</td>\n",
       "      <td>1</td>\n",
       "    </tr>\n",
       "    <tr>\n",
       "      <th>4</th>\n",
       "      <td>5</td>\n",
       "      <td>3</td>\n",
       "    </tr>\n",
       "  </tbody>\n",
       "</table>\n",
       "</div>"
      ],
      "text/plain": [
       "   id  Bathrooms\n",
       "0   1          1\n",
       "1   2          1\n",
       "2   3          3\n",
       "3   4          1\n",
       "4   5          3"
      ]
     },
     "execution_count": 139,
     "metadata": {},
     "output_type": "execute_result"
    }
   ],
   "source": [
    "data3.rename(columns={'2': 'Bathrooms'}, inplace = True )\n",
    "\n",
    "data3.rename(columns={'0': 'id'}, inplace = True )\n",
    "\n",
    "data3.head()"
   ]
  },
  {
   "cell_type": "code",
   "execution_count": 140,
   "metadata": {
    "colab": {
     "base_uri": "https://localhost:8080/",
     "height": 206
    },
    "executionInfo": {
     "elapsed": 132,
     "status": "ok",
     "timestamp": 1699028712717,
     "user": {
      "displayName": "Aurélie Mutschler",
      "userId": "09486760454547044843"
     },
     "user_tz": -60
    },
    "id": "mx3CLlDjbEAb",
    "outputId": "ad55ec26-5d9c-42c5-a1b3-7e68937836ab"
   },
   "outputs": [
    {
     "data": {
      "text/html": [
       "<div>\n",
       "<style scoped>\n",
       "    .dataframe tbody tr th:only-of-type {\n",
       "        vertical-align: middle;\n",
       "    }\n",
       "\n",
       "    .dataframe tbody tr th {\n",
       "        vertical-align: top;\n",
       "    }\n",
       "\n",
       "    .dataframe thead th {\n",
       "        text-align: right;\n",
       "    }\n",
       "</style>\n",
       "<table border=\"1\" class=\"dataframe\">\n",
       "  <thead>\n",
       "    <tr style=\"text-align: right;\">\n",
       "      <th></th>\n",
       "      <th>id</th>\n",
       "      <th>Surface</th>\n",
       "    </tr>\n",
       "  </thead>\n",
       "  <tbody>\n",
       "    <tr>\n",
       "      <th>0</th>\n",
       "      <td>1</td>\n",
       "      <td>27667</td>\n",
       "    </tr>\n",
       "    <tr>\n",
       "      <th>1</th>\n",
       "      <td>2</td>\n",
       "      <td>14742</td>\n",
       "    </tr>\n",
       "    <tr>\n",
       "      <th>2</th>\n",
       "      <td>3</td>\n",
       "      <td>28089</td>\n",
       "    </tr>\n",
       "    <tr>\n",
       "      <th>3</th>\n",
       "      <td>4</td>\n",
       "      <td>11713</td>\n",
       "    </tr>\n",
       "    <tr>\n",
       "      <th>4</th>\n",
       "      <td>5</td>\n",
       "      <td>28591</td>\n",
       "    </tr>\n",
       "  </tbody>\n",
       "</table>\n",
       "</div>"
      ],
      "text/plain": [
       "   id  Surface\n",
       "0   1    27667\n",
       "1   2    14742\n",
       "2   3    28089\n",
       "3   4    11713\n",
       "4   5    28591"
      ]
     },
     "execution_count": 140,
     "metadata": {},
     "output_type": "execute_result"
    }
   ],
   "source": [
    "data4.rename(columns= {'28844' : 'Surface'} , inplace=True)\n",
    "\n",
    "data4.rename(columns= {'0' : 'id'} , inplace=True)\n",
    "\n",
    "data4.head()"
   ]
  },
  {
   "cell_type": "markdown",
   "metadata": {
    "id": "XCuGpWCNJs75"
   },
   "source": [
    "4. Make an inner join of these four datasets into a single dataframe."
   ]
  },
  {
   "cell_type": "code",
   "execution_count": 141,
   "metadata": {
    "id": "J8OqtHXBbEAc"
   },
   "outputs": [
    {
     "data": {
      "text/html": [
       "<div>\n",
       "<style scoped>\n",
       "    .dataframe tbody tr th:only-of-type {\n",
       "        vertical-align: middle;\n",
       "    }\n",
       "\n",
       "    .dataframe tbody tr th {\n",
       "        vertical-align: top;\n",
       "    }\n",
       "\n",
       "    .dataframe thead th {\n",
       "        text-align: right;\n",
       "    }\n",
       "</style>\n",
       "<table border=\"1\" class=\"dataframe\">\n",
       "  <thead>\n",
       "    <tr style=\"text-align: right;\">\n",
       "      <th></th>\n",
       "      <th>Unnamed: 0</th>\n",
       "      <th>id</th>\n",
       "      <th>house_price</th>\n",
       "      <th>Rooms</th>\n",
       "      <th>Bathrooms</th>\n",
       "      <th>Surface</th>\n",
       "    </tr>\n",
       "  </thead>\n",
       "  <tbody>\n",
       "    <tr>\n",
       "      <th>0</th>\n",
       "      <td>0</td>\n",
       "      <td>14</td>\n",
       "      <td>1918154.0</td>\n",
       "      <td>4</td>\n",
       "      <td>1</td>\n",
       "      <td>26824</td>\n",
       "    </tr>\n",
       "    <tr>\n",
       "      <th>1</th>\n",
       "      <td>1</td>\n",
       "      <td>30</td>\n",
       "      <td>739142.0</td>\n",
       "      <td>4</td>\n",
       "      <td>2</td>\n",
       "      <td>23872</td>\n",
       "    </tr>\n",
       "    <tr>\n",
       "      <th>2</th>\n",
       "      <td>2</td>\n",
       "      <td>70</td>\n",
       "      <td>1621938.0</td>\n",
       "      <td>2</td>\n",
       "      <td>2</td>\n",
       "      <td>26539</td>\n",
       "    </tr>\n",
       "    <tr>\n",
       "      <th>3</th>\n",
       "      <td>3</td>\n",
       "      <td>77</td>\n",
       "      <td>1319862.0</td>\n",
       "      <td>2</td>\n",
       "      <td>1</td>\n",
       "      <td>29449</td>\n",
       "    </tr>\n",
       "    <tr>\n",
       "      <th>4</th>\n",
       "      <td>4</td>\n",
       "      <td>50</td>\n",
       "      <td>146250.0</td>\n",
       "      <td>2</td>\n",
       "      <td>3</td>\n",
       "      <td>10502</td>\n",
       "    </tr>\n",
       "  </tbody>\n",
       "</table>\n",
       "</div>"
      ],
      "text/plain": [
       "   Unnamed: 0  id  house_price  Rooms  Bathrooms  Surface\n",
       "0           0  14    1918154.0      4          1    26824\n",
       "1           1  30     739142.0      4          2    23872\n",
       "2           2  70    1621938.0      2          2    26539\n",
       "3           3  77    1319862.0      2          1    29449\n",
       "4           4  50     146250.0      2          3    10502"
      ]
     },
     "execution_count": 141,
     "metadata": {},
     "output_type": "execute_result"
    }
   ],
   "source": [
    "from functools import reduce\n",
    "import pandas as pd\n",
    "\n",
    "dfs = [data1, data2, data3, data4]\n",
    "\n",
    "dataset = reduce(lambda left, right: pd.merge(left, right, on='id', how='inner'), dfs)\n",
    "\n",
    "dataset.head()"
   ]
  },
  {
   "cell_type": "markdown",
   "metadata": {
    "id": "iEfE8rgrJ2vK"
   },
   "source": [
    "5. What is the average surface area of the houses in our dataset?"
   ]
  },
  {
   "cell_type": "code",
   "execution_count": 142,
   "metadata": {
    "colab": {
     "base_uri": "https://localhost:8080/"
    },
    "executionInfo": {
     "elapsed": 130,
     "status": "ok",
     "timestamp": 1699028712718,
     "user": {
      "displayName": "Aurélie Mutschler",
      "userId": "09486760454547044843"
     },
     "user_tz": -60
    },
    "id": "N-Q8fJupI66E",
    "outputId": "9e0c7c17-8beb-40ce-c1a6-aeb1191239ad"
   },
   "outputs": [
    {
     "data": {
      "text/plain": [
       "20354"
      ]
     },
     "execution_count": 142,
     "metadata": {},
     "output_type": "execute_result"
    }
   ],
   "source": [
    "int(dataset['Surface'].mean())"
   ]
  },
  {
   "cell_type": "markdown",
   "metadata": {
    "id": "pE7O59U3J5v-"
   },
   "source": [
    "6. What is the median and average number of rooms?"
   ]
  },
  {
   "cell_type": "code",
   "execution_count": 143,
   "metadata": {
    "colab": {
     "base_uri": "https://localhost:8080/"
    },
    "executionInfo": {
     "elapsed": 128,
     "status": "ok",
     "timestamp": 1699028712718,
     "user": {
      "displayName": "Aurélie Mutschler",
      "userId": "09486760454547044843"
     },
     "user_tz": -60
    },
    "id": "z4tPdBDLI66H",
    "outputId": "1fc3e736-4cc6-4901-e0d2-cff92b05f268",
    "tags": []
   },
   "outputs": [
    {
     "name": "stdout",
     "output_type": "stream",
     "text": [
      "2.4343434343434343\n"
     ]
    }
   ],
   "source": [
    "median_rooms = float(dataset['Rooms'].median())\n",
    "\n",
    "mean_rooms = float(dataset['Rooms'].mean())\n",
    "\n",
    "print(mean_rooms)"
   ]
  },
  {
   "cell_type": "markdown",
   "metadata": {
    "id": "-OsvPDf_Kt5A"
   },
   "source": [
    "7. What is the average cost of a house?"
   ]
  },
  {
   "cell_type": "code",
   "execution_count": 144,
   "metadata": {
    "colab": {
     "base_uri": "https://localhost:8080/"
    },
    "executionInfo": {
     "elapsed": 130,
     "status": "ok",
     "timestamp": 1699028712723,
     "user": {
      "displayName": "Aurélie Mutschler",
      "userId": "09486760454547044843"
     },
     "user_tz": -60
    },
    "id": "W9ugWn6fI66N",
    "outputId": "69b40bd9-9df9-4c21-b35a-94abfa65154e"
   },
   "outputs": [
    {
     "name": "stdout",
     "output_type": "stream",
     "text": [
      "761140.191919192\n"
     ]
    }
   ],
   "source": [
    "average_cost_of_house = float(dataset['house_price'].mean())\n",
    "\n",
    "print(average_cost_of_house)"
   ]
  },
  {
   "cell_type": "markdown",
   "metadata": {
    "id": "98siYxVVKy1f"
   },
   "source": [
    "8. What is the average cost of a house, depending on the number of rooms it has?"
   ]
  },
  {
   "cell_type": "code",
   "execution_count": 145,
   "metadata": {
    "colab": {
     "base_uri": "https://localhost:8080/"
    },
    "executionInfo": {
     "elapsed": 127,
     "status": "ok",
     "timestamp": 1699028712723,
     "user": {
      "displayName": "Aurélie Mutschler",
      "userId": "09486760454547044843"
     },
     "user_tz": -60
    },
    "id": "X675Y2zLI66X",
    "outputId": "f7a5169f-2181-42f9-aa30-609aad3d97b6"
   },
   "outputs": [
    {
     "name": "stdout",
     "output_type": "stream",
     "text": [
      "Rooms\n",
      "1    960723.363636\n",
      "2    642086.258065\n",
      "3    645904.592593\n",
      "4    888045.631579\n",
      "Name: house_price, dtype: float64\n"
     ]
    }
   ],
   "source": [
    "average_price_per_room = dataset.groupby('Rooms')['house_price'].mean()\n",
    "\n",
    "print(average_price_per_room)"
   ]
  },
  {
   "cell_type": "markdown",
   "metadata": {
    "id": "9Ir3pvu3K6jN"
   },
   "source": [
    "10. The average cost per room doesn't tell us much. Let's try to categorize by size.\n",
    "\n",
    "  - Create a new column in your dataset that we'll call home_size\n",
    "Create five categories that respectively correspond to:\n",
    "      - \"very large\" $=$ \"a house larger than 25,000 sqrt_feet\"\n",
    "      - \"large\" $=$ \"a house between 20,000 and 25,000 sqrt_feet\"\n",
    "      - \"medium\" $=$ \"a house between 15,000 and 20,000 sqrt_feet\"\n",
    "      - \"small\" $=$ \"a house between 10,000 and 15,000 sqrt_feet\"\n",
    "      - \"very small\" $=$ a house less than 10,000 sqrt_feet\"\n",
    "\n",
    "Fill in the corresponding rows in the house_size column."
   ]
  },
  {
   "cell_type": "code",
   "execution_count": 146,
   "metadata": {
    "colab": {
     "base_uri": "https://localhost:8080/",
     "height": 423
    },
    "executionInfo": {
     "elapsed": 125,
     "status": "ok",
     "timestamp": 1699028712723,
     "user": {
      "displayName": "Aurélie Mutschler",
      "userId": "09486760454547044843"
     },
     "user_tz": -60
    },
    "id": "OPGVFBU-I66k",
    "outputId": "ca735619-0978-4c76-fc4a-08a8bf06749a"
   },
   "outputs": [
    {
     "name": "stdout",
     "output_type": "stream",
     "text": [
      "    Unnamed: 0  id  house_price  Rooms  Bathrooms  Surface   home_size\n",
      "0            0  14    1918154.0      4          1    26824  very large\n",
      "1            1  30     739142.0      4          2    23872       large\n",
      "2            2  70    1621938.0      2          2    26539  very large\n",
      "3            3  77    1319862.0      2          1    29449  very large\n",
      "4            4  50     146250.0      2          3    10502       small\n",
      "..         ...  ..          ...    ...        ...      ...         ...\n",
      "94          95  15     157223.0      2          2    12754       small\n",
      "95          96  81    1616313.0      1          3    25647  very large\n",
      "96          97  42     143573.0      3          2    13185       small\n",
      "97          98  19     974546.0      2          3    20928       large\n",
      "98          99   9     157433.0      3          3    12841       small\n",
      "\n",
      "[99 rows x 7 columns]\n"
     ]
    }
   ],
   "source": [
    "def categorize_size(sqrt_feet):\n",
    "    if sqrt_feet > 25000:\n",
    "        return 'very large'\n",
    "    elif 20000 < sqrt_feet <= 25000:\n",
    "        return 'large'\n",
    "    elif 15000 < sqrt_feet <= 20000:\n",
    "        return 'medium'\n",
    "    elif 10000 < sqrt_feet <= 15000:\n",
    "        return 'small'\n",
    "    else:\n",
    "        return 'very small'\n",
    "    \n",
    "dataset['home_size'] = dataset['Surface'].apply(categorize_size)\n",
    "\n",
    "\n",
    "print(dataset)"
   ]
  },
  {
   "cell_type": "markdown",
   "metadata": {
    "id": "7h5LIdYlL37i"
   },
   "source": [
    "11. What is the average cost of a house depending on its size category?\n"
   ]
  },
  {
   "cell_type": "code",
   "execution_count": 147,
   "metadata": {
    "colab": {
     "base_uri": "https://localhost:8080/"
    },
    "executionInfo": {
     "elapsed": 124,
     "status": "ok",
     "timestamp": 1699028712724,
     "user": {
      "displayName": "Aurélie Mutschler",
      "userId": "09486760454547044843"
     },
     "user_tz": -60
    },
    "id": "liaycbr_bEAf",
    "outputId": "57c51ba5-02b5-4b50-a76e-64509d52782f"
   },
   "outputs": [
    {
     "name": "stdout",
     "output_type": "stream",
     "text": [
      "home_size\n",
      "large         7.325385e+05\n",
      "medium        3.256948e+05\n",
      "small         1.561387e+05\n",
      "very large    1.556667e+06\n",
      "Name: house_price, dtype: float64\n"
     ]
    }
   ],
   "source": [
    "average_cost_of_house_size_category = dataset.groupby('home_size')['house_price'].mean()\n",
    "\n",
    "print(average_cost_of_house_size_category)\n",
    "\n"
   ]
  },
  {
   "cell_type": "markdown",
   "metadata": {
    "id": "bK8WqH1-L9n5"
   },
   "source": [
    " 12. Apply the code below to view your result. What can you conclude?"
   ]
  },
  {
   "cell_type": "code",
   "execution_count": 149,
   "metadata": {
    "colab": {
     "base_uri": "https://localhost:8080/",
     "height": 542
    },
    "executionInfo": {
     "elapsed": 3279,
     "status": "ok",
     "timestamp": 1699028715882,
     "user": {
      "displayName": "Aurélie Mutschler",
      "userId": "09486760454547044843"
     },
     "user_tz": -60
    },
    "id": "fwNOWWywbYd7",
    "outputId": "b340afbd-2db7-4654-ae48-a2dd2952f851"
   },
   "outputs": [
    {
     "data": {
      "application/vnd.plotly.v1+json": {
       "config": {
        "plotlyServerURL": "https://plot.ly"
       },
       "data": [
        {
         "hovertemplate": "Surface=%{x}<br>house_price=%{y}<extra></extra>",
         "legendgroup": "",
         "marker": {
          "color": "#636efa",
          "symbol": "circle"
         },
         "mode": "markers",
         "name": "",
         "orientation": "v",
         "showlegend": false,
         "type": "scatter",
         "x": {
          "bdata": "yGhAXatnCXMGKWB0ImUBO9YnulzmVExN92QGQP5nXi9eLfZlK1w8TctEoCptYOt0+FHcQC8qHDKHUzBkPGj6cq9vFTkTaJAs4ymkKpkspU8TalVm2j9dUPdyOzDMbRoxwS3qTdJPJGolXelDSW6vTg9tQCmlUyQ+5HSXLVY1uTiWOQ5z5y/1PmdNyFsTbBJGvFS6Ooc4M2tQRedhoyrPX8g9+lDXTOdm7UfAZYxSuW2CSV1ug1m4XJFaUlvSMS9kgTPAUSky",
          "dtype": "i2"
         },
         "xaxis": "x",
         "y": {
          "bdata": "AAAAAMpEPUEAAAAAjI4mQQAAAACyvzhBAAAAALYjNEEAAAAAUNoBQQAAAAByvTVBAAAAAM1nPkEAAAAAyHYbQQAAAABY4ARBAAAAAEzMLUEAAAAApBEqQQAAAADwRg9BAAAAANwRM0EAAAAAKPAMQQAAAADP8jNBAAAAAKAFA0EAAAAAoAEFQQAAAABnRj5BAAAAAF4uIUEAAAAAiJoIQQAAAADoaw9BAAAAAHh5BUEAAAAAbH8kQQAAAAALZz1BAAAAALi7JEEAAAAA9LEaQQAAAABQkwZBAAAAAIDE+EAAAAAAqnElQQAAAAA7PD1BAAAAAJMIPkEAAAAAefk5QQAAAAB5/DlBAAAAAChqBkEAAAAAZEw1QQAAAADw8wNBAAAAALhVBEEAAAAAQNgAQQAAAAC4LwBBAAAAANQsKkEAAAAAJycxQQAAAACl3jJBAAAAAIyWGUEAAAAABG4iQQAAAABPgDFBAAAAAOjaAEEAAAAAwM09QQAAAACIGgVBAAAAACBw+kAAAAAAPFQUQQAAAACqhiVBAAAAABAcMkEAAAAA3HooQQAAAADwxBRBAAAAAIZ9OkEAAAAAPiEhQQAAAAA11DtBAAAAAMhBB0EAAAAAKuIoQQAAAAAQ1B1BAAAAAFcOPEEAAAAAsDsGQQAAAABYugVBAAAAAJhKAkEAAAAAqBAEQQAAAAD2TDRBAAAAAHg9BkEAAAAAHDkWQQAAAAAgLQxBAAAAAPi4JEEAAAAAA+ozQQAAAADwnAtBAAAAADAUJEEAAAAAaBAPQQAAAACAT/lAAAAAAINuMkEAAAAAtCAbQQAAAAAw5zlBAAAAAIgMAUEAAAAAzHAsQQAAAADA+BhBAAAAAIT9KEEAAAAANG8WQQAAAADPUT1BAAAAAMBrEEEAAAAAlq0xQQAAAADkhh9BAAAAALL/NUEAAAAAOJkIQQAAAACDyjBBAAAAAL51IUEAAAAARtAgQQAAAABUwCJBAAAAALCBLkEAAAAAODEDQQAAAAC5qThBAAAAAKiGAUEAAAAApL0tQQAAAADINwNB",
          "dtype": "f8"
         },
         "yaxis": "y"
        },
        {
         "hovertemplate": "<b>OLS trendline</b><br>house_price = 86.0224 * Surface + -989834<br>R<sup>2</sup>=0.766164<br><br>Surface=%{x}<br>house_price=%{y} <b>(trend)</b><extra></extra>",
         "legendgroup": "",
         "marker": {
          "color": "#636efa",
          "symbol": "circle"
         },
         "mode": "lines",
         "name": "",
         "showlegend": false,
         "type": "scatter",
         "x": {
          "bdata": "1icGKUAp4ykvKqAqoyqkKpAsmSxeLZctwS1eL+cvOzAaMdIxHDIpMoEzVjWHOLk4FTmWObo6ATvIPSQ+9T7aPwZA3EDpQ8tEUEUSRu1HgknXTDxNTE1nTepNr06lT9JPXVD6UMBR+FGMUodTpVO8VOZUg1mRWlJbyFsrXLhculwlXUBdz19tYOdhL2QwZPdkImXAZfZlVWbnZqtn/mcTaDxoyGgTaiRqM2sTbA9tuW3MbUluXW6vb/dy+nIJcw5zYHTkdOt0",
          "dtype": "i2"
         },
         "xaxis": "x",
         "y": {
          "bdata": "GIGXcyZ8+8DwSx68uRn1wDCKKv7k4fPAUJpes4p18MAQmgAL37ntwLDBfzjO+ujAMJMxE4za6MCwgxdcy8/owIDXBtitlcDAgFK5MCglvsDAEtuDnwbCQIDiEJdCmstA4IcVYF1U0UCgyBUVFgPqQCAVCBI4xO9A4JVKE7ql8UAAVyTTqVT2QLDpgaDrMfpAgCdGF8a/+0BQjG+9qgX8QND7eOGSnwFBGJYovlaMBkGIdbPUmCAPQWA3ecUBpw9BBE5oHClPEEEUiOykjPwQQRy+I8AGhRJBwAcrGXXkEkH8KVeqHKAWQVTcAuTEGxdBeLGLk680GEFgrdUMfGgZQagC5fufoxlBfCHeHUPDGkFsSy7xAN0eQcJA55JiBiBBquHvhMRfIEGy3QsxJeIgQRSK4WxeISJBnjKlh4wxI0FgjUKpzm4lQUQPFy2vsiVBxh4x5G+9JUHwGC0Zlc8lQeh3UvSeJyZB2lbDwgOsJkFIBfTBVlEnQeRQ7cSUbydBnref+/7MJ0HKb08AgjYoQbLvMdqSuyhB+CUNWzXhKEFqNb74q0QpQbIIJzFb7SlBxOV3iIQBKkEwVE4BBb0qQeS88uE+2SpBjlUmre/yLUE+G/6+Y6guQU52qF8YKi9BrKgIpmV5L0Gg6PkS7rsvQaXIRzBYDTBBnWm5OwQOMEF4jfif+DEwQY2KdjoLOzBB+fdT3iMXMUGLpGRmO0wxQbt7SNk/yzFBvxbk5nyPMkE755zs0o8yQav3Rl+x0jJBgfxRVSThMkETqWLdOxYzQT+jXhJhKDNBRwH0MU1IM0EJ6Fp1XHkzQQWH2tY4uzNBPx/GsRzXM0FrOe8pK94zQUmdiBTy6zNBI6GaNf0aNEGLMZCbNoo0QccJ1vzsjzRBHb16C/3qNEGrKTENQjY1QcljHq/vijVBK9bYew/ENUFhT5Docco1QfUbzrNy9DVBp2U+Jiv7NUFzqUG0vmw2QYfArXoBhzdB+zHYiwOIN0E/aazhDY03Qat7SP67jjdBeb9LjE8AOEFxP5d/qiw4QdXypKcELzhB",
          "dtype": "f8"
         },
         "yaxis": "y"
        }
       ],
       "layout": {
        "legend": {
         "tracegroupgap": 0
        },
        "margin": {
         "t": 60
        },
        "template": {
         "data": {
          "bar": [
           {
            "error_x": {
             "color": "#2a3f5f"
            },
            "error_y": {
             "color": "#2a3f5f"
            },
            "marker": {
             "line": {
              "color": "#E5ECF6",
              "width": 0.5
             },
             "pattern": {
              "fillmode": "overlay",
              "size": 10,
              "solidity": 0.2
             }
            },
            "type": "bar"
           }
          ],
          "barpolar": [
           {
            "marker": {
             "line": {
              "color": "#E5ECF6",
              "width": 0.5
             },
             "pattern": {
              "fillmode": "overlay",
              "size": 10,
              "solidity": 0.2
             }
            },
            "type": "barpolar"
           }
          ],
          "carpet": [
           {
            "aaxis": {
             "endlinecolor": "#2a3f5f",
             "gridcolor": "white",
             "linecolor": "white",
             "minorgridcolor": "white",
             "startlinecolor": "#2a3f5f"
            },
            "baxis": {
             "endlinecolor": "#2a3f5f",
             "gridcolor": "white",
             "linecolor": "white",
             "minorgridcolor": "white",
             "startlinecolor": "#2a3f5f"
            },
            "type": "carpet"
           }
          ],
          "choropleth": [
           {
            "colorbar": {
             "outlinewidth": 0,
             "ticks": ""
            },
            "type": "choropleth"
           }
          ],
          "contour": [
           {
            "colorbar": {
             "outlinewidth": 0,
             "ticks": ""
            },
            "colorscale": [
             [
              0,
              "#0d0887"
             ],
             [
              0.1111111111111111,
              "#46039f"
             ],
             [
              0.2222222222222222,
              "#7201a8"
             ],
             [
              0.3333333333333333,
              "#9c179e"
             ],
             [
              0.4444444444444444,
              "#bd3786"
             ],
             [
              0.5555555555555556,
              "#d8576b"
             ],
             [
              0.6666666666666666,
              "#ed7953"
             ],
             [
              0.7777777777777778,
              "#fb9f3a"
             ],
             [
              0.8888888888888888,
              "#fdca26"
             ],
             [
              1,
              "#f0f921"
             ]
            ],
            "type": "contour"
           }
          ],
          "contourcarpet": [
           {
            "colorbar": {
             "outlinewidth": 0,
             "ticks": ""
            },
            "type": "contourcarpet"
           }
          ],
          "heatmap": [
           {
            "colorbar": {
             "outlinewidth": 0,
             "ticks": ""
            },
            "colorscale": [
             [
              0,
              "#0d0887"
             ],
             [
              0.1111111111111111,
              "#46039f"
             ],
             [
              0.2222222222222222,
              "#7201a8"
             ],
             [
              0.3333333333333333,
              "#9c179e"
             ],
             [
              0.4444444444444444,
              "#bd3786"
             ],
             [
              0.5555555555555556,
              "#d8576b"
             ],
             [
              0.6666666666666666,
              "#ed7953"
             ],
             [
              0.7777777777777778,
              "#fb9f3a"
             ],
             [
              0.8888888888888888,
              "#fdca26"
             ],
             [
              1,
              "#f0f921"
             ]
            ],
            "type": "heatmap"
           }
          ],
          "histogram": [
           {
            "marker": {
             "pattern": {
              "fillmode": "overlay",
              "size": 10,
              "solidity": 0.2
             }
            },
            "type": "histogram"
           }
          ],
          "histogram2d": [
           {
            "colorbar": {
             "outlinewidth": 0,
             "ticks": ""
            },
            "colorscale": [
             [
              0,
              "#0d0887"
             ],
             [
              0.1111111111111111,
              "#46039f"
             ],
             [
              0.2222222222222222,
              "#7201a8"
             ],
             [
              0.3333333333333333,
              "#9c179e"
             ],
             [
              0.4444444444444444,
              "#bd3786"
             ],
             [
              0.5555555555555556,
              "#d8576b"
             ],
             [
              0.6666666666666666,
              "#ed7953"
             ],
             [
              0.7777777777777778,
              "#fb9f3a"
             ],
             [
              0.8888888888888888,
              "#fdca26"
             ],
             [
              1,
              "#f0f921"
             ]
            ],
            "type": "histogram2d"
           }
          ],
          "histogram2dcontour": [
           {
            "colorbar": {
             "outlinewidth": 0,
             "ticks": ""
            },
            "colorscale": [
             [
              0,
              "#0d0887"
             ],
             [
              0.1111111111111111,
              "#46039f"
             ],
             [
              0.2222222222222222,
              "#7201a8"
             ],
             [
              0.3333333333333333,
              "#9c179e"
             ],
             [
              0.4444444444444444,
              "#bd3786"
             ],
             [
              0.5555555555555556,
              "#d8576b"
             ],
             [
              0.6666666666666666,
              "#ed7953"
             ],
             [
              0.7777777777777778,
              "#fb9f3a"
             ],
             [
              0.8888888888888888,
              "#fdca26"
             ],
             [
              1,
              "#f0f921"
             ]
            ],
            "type": "histogram2dcontour"
           }
          ],
          "mesh3d": [
           {
            "colorbar": {
             "outlinewidth": 0,
             "ticks": ""
            },
            "type": "mesh3d"
           }
          ],
          "parcoords": [
           {
            "line": {
             "colorbar": {
              "outlinewidth": 0,
              "ticks": ""
             }
            },
            "type": "parcoords"
           }
          ],
          "pie": [
           {
            "automargin": true,
            "type": "pie"
           }
          ],
          "scatter": [
           {
            "fillpattern": {
             "fillmode": "overlay",
             "size": 10,
             "solidity": 0.2
            },
            "type": "scatter"
           }
          ],
          "scatter3d": [
           {
            "line": {
             "colorbar": {
              "outlinewidth": 0,
              "ticks": ""
             }
            },
            "marker": {
             "colorbar": {
              "outlinewidth": 0,
              "ticks": ""
             }
            },
            "type": "scatter3d"
           }
          ],
          "scattercarpet": [
           {
            "marker": {
             "colorbar": {
              "outlinewidth": 0,
              "ticks": ""
             }
            },
            "type": "scattercarpet"
           }
          ],
          "scattergeo": [
           {
            "marker": {
             "colorbar": {
              "outlinewidth": 0,
              "ticks": ""
             }
            },
            "type": "scattergeo"
           }
          ],
          "scattergl": [
           {
            "marker": {
             "colorbar": {
              "outlinewidth": 0,
              "ticks": ""
             }
            },
            "type": "scattergl"
           }
          ],
          "scattermap": [
           {
            "marker": {
             "colorbar": {
              "outlinewidth": 0,
              "ticks": ""
             }
            },
            "type": "scattermap"
           }
          ],
          "scattermapbox": [
           {
            "marker": {
             "colorbar": {
              "outlinewidth": 0,
              "ticks": ""
             }
            },
            "type": "scattermapbox"
           }
          ],
          "scatterpolar": [
           {
            "marker": {
             "colorbar": {
              "outlinewidth": 0,
              "ticks": ""
             }
            },
            "type": "scatterpolar"
           }
          ],
          "scatterpolargl": [
           {
            "marker": {
             "colorbar": {
              "outlinewidth": 0,
              "ticks": ""
             }
            },
            "type": "scatterpolargl"
           }
          ],
          "scatterternary": [
           {
            "marker": {
             "colorbar": {
              "outlinewidth": 0,
              "ticks": ""
             }
            },
            "type": "scatterternary"
           }
          ],
          "surface": [
           {
            "colorbar": {
             "outlinewidth": 0,
             "ticks": ""
            },
            "colorscale": [
             [
              0,
              "#0d0887"
             ],
             [
              0.1111111111111111,
              "#46039f"
             ],
             [
              0.2222222222222222,
              "#7201a8"
             ],
             [
              0.3333333333333333,
              "#9c179e"
             ],
             [
              0.4444444444444444,
              "#bd3786"
             ],
             [
              0.5555555555555556,
              "#d8576b"
             ],
             [
              0.6666666666666666,
              "#ed7953"
             ],
             [
              0.7777777777777778,
              "#fb9f3a"
             ],
             [
              0.8888888888888888,
              "#fdca26"
             ],
             [
              1,
              "#f0f921"
             ]
            ],
            "type": "surface"
           }
          ],
          "table": [
           {
            "cells": {
             "fill": {
              "color": "#EBF0F8"
             },
             "line": {
              "color": "white"
             }
            },
            "header": {
             "fill": {
              "color": "#C8D4E3"
             },
             "line": {
              "color": "white"
             }
            },
            "type": "table"
           }
          ]
         },
         "layout": {
          "annotationdefaults": {
           "arrowcolor": "#2a3f5f",
           "arrowhead": 0,
           "arrowwidth": 1
          },
          "autotypenumbers": "strict",
          "coloraxis": {
           "colorbar": {
            "outlinewidth": 0,
            "ticks": ""
           }
          },
          "colorscale": {
           "diverging": [
            [
             0,
             "#8e0152"
            ],
            [
             0.1,
             "#c51b7d"
            ],
            [
             0.2,
             "#de77ae"
            ],
            [
             0.3,
             "#f1b6da"
            ],
            [
             0.4,
             "#fde0ef"
            ],
            [
             0.5,
             "#f7f7f7"
            ],
            [
             0.6,
             "#e6f5d0"
            ],
            [
             0.7,
             "#b8e186"
            ],
            [
             0.8,
             "#7fbc41"
            ],
            [
             0.9,
             "#4d9221"
            ],
            [
             1,
             "#276419"
            ]
           ],
           "sequential": [
            [
             0,
             "#0d0887"
            ],
            [
             0.1111111111111111,
             "#46039f"
            ],
            [
             0.2222222222222222,
             "#7201a8"
            ],
            [
             0.3333333333333333,
             "#9c179e"
            ],
            [
             0.4444444444444444,
             "#bd3786"
            ],
            [
             0.5555555555555556,
             "#d8576b"
            ],
            [
             0.6666666666666666,
             "#ed7953"
            ],
            [
             0.7777777777777778,
             "#fb9f3a"
            ],
            [
             0.8888888888888888,
             "#fdca26"
            ],
            [
             1,
             "#f0f921"
            ]
           ],
           "sequentialminus": [
            [
             0,
             "#0d0887"
            ],
            [
             0.1111111111111111,
             "#46039f"
            ],
            [
             0.2222222222222222,
             "#7201a8"
            ],
            [
             0.3333333333333333,
             "#9c179e"
            ],
            [
             0.4444444444444444,
             "#bd3786"
            ],
            [
             0.5555555555555556,
             "#d8576b"
            ],
            [
             0.6666666666666666,
             "#ed7953"
            ],
            [
             0.7777777777777778,
             "#fb9f3a"
            ],
            [
             0.8888888888888888,
             "#fdca26"
            ],
            [
             1,
             "#f0f921"
            ]
           ]
          },
          "colorway": [
           "#636efa",
           "#EF553B",
           "#00cc96",
           "#ab63fa",
           "#FFA15A",
           "#19d3f3",
           "#FF6692",
           "#B6E880",
           "#FF97FF",
           "#FECB52"
          ],
          "font": {
           "color": "#2a3f5f"
          },
          "geo": {
           "bgcolor": "white",
           "lakecolor": "white",
           "landcolor": "#E5ECF6",
           "showlakes": true,
           "showland": true,
           "subunitcolor": "white"
          },
          "hoverlabel": {
           "align": "left"
          },
          "hovermode": "closest",
          "mapbox": {
           "style": "light"
          },
          "paper_bgcolor": "white",
          "plot_bgcolor": "#E5ECF6",
          "polar": {
           "angularaxis": {
            "gridcolor": "white",
            "linecolor": "white",
            "ticks": ""
           },
           "bgcolor": "#E5ECF6",
           "radialaxis": {
            "gridcolor": "white",
            "linecolor": "white",
            "ticks": ""
           }
          },
          "scene": {
           "xaxis": {
            "backgroundcolor": "#E5ECF6",
            "gridcolor": "white",
            "gridwidth": 2,
            "linecolor": "white",
            "showbackground": true,
            "ticks": "",
            "zerolinecolor": "white"
           },
           "yaxis": {
            "backgroundcolor": "#E5ECF6",
            "gridcolor": "white",
            "gridwidth": 2,
            "linecolor": "white",
            "showbackground": true,
            "ticks": "",
            "zerolinecolor": "white"
           },
           "zaxis": {
            "backgroundcolor": "#E5ECF6",
            "gridcolor": "white",
            "gridwidth": 2,
            "linecolor": "white",
            "showbackground": true,
            "ticks": "",
            "zerolinecolor": "white"
           }
          },
          "shapedefaults": {
           "line": {
            "color": "#2a3f5f"
           }
          },
          "ternary": {
           "aaxis": {
            "gridcolor": "white",
            "linecolor": "white",
            "ticks": ""
           },
           "baxis": {
            "gridcolor": "white",
            "linecolor": "white",
            "ticks": ""
           },
           "bgcolor": "#E5ECF6",
           "caxis": {
            "gridcolor": "white",
            "linecolor": "white",
            "ticks": ""
           }
          },
          "title": {
           "x": 0.05
          },
          "xaxis": {
           "automargin": true,
           "gridcolor": "white",
           "linecolor": "white",
           "ticks": "",
           "title": {
            "standoff": 15
           },
           "zerolinecolor": "white",
           "zerolinewidth": 2
          },
          "yaxis": {
           "automargin": true,
           "gridcolor": "white",
           "linecolor": "white",
           "ticks": "",
           "title": {
            "standoff": 15
           },
           "zerolinecolor": "white",
           "zerolinewidth": 2
          }
         }
        },
        "xaxis": {
         "anchor": "y",
         "domain": [
          0,
          1
         ],
         "title": {
          "text": "Surface"
         }
        },
        "yaxis": {
         "anchor": "x",
         "domain": [
          0,
          1
         ],
         "title": {
          "text": "house_price"
         }
        }
       }
      }
     },
     "metadata": {},
     "output_type": "display_data"
    }
   ],
   "source": [
    "import plotly.express as px\n",
    "fig = px.scatter(dataset, x = \"Surface\", y = \"house_price\", trendline = \"ols\")\n",
    "fig.show()"
   ]
  }
 ],
 "metadata": {
  "colab": {
   "provenance": []
  },
  "kernelspec": {
   "display_name": "Python 3",
   "language": "python",
   "name": "python3"
  },
  "language_info": {
   "codemirror_mode": {
    "name": "ipython",
    "version": 3
   },
   "file_extension": ".py",
   "mimetype": "text/x-python",
   "name": "python",
   "nbconvert_exporter": "python",
   "pygments_lexer": "ipython3",
   "version": "3.11.9"
  }
 },
 "nbformat": 4,
 "nbformat_minor": 0
}
